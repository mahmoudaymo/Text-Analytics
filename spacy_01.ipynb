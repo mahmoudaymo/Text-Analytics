{
 "cells": [
  {
   "cell_type": "code",
   "execution_count": 8,
   "metadata": {},
   "outputs": [],
   "source": [
    "import spacy\n",
    "import es_core_news_sm\n",
    "nlp = spacy.load('es')\n",
    "nlp1 = es_core_news_sm.load()"
   ]
  },
  {
   "cell_type": "code",
   "execution_count": 16,
   "metadata": {},
   "outputs": [],
   "source": [
    "doc = nlp('Por favor, pasame la sal')\n",
    "doc1 = nlp1('La ensañanza es un proceso con muchos dificultades')"
   ]
  },
  {
   "cell_type": "code",
   "execution_count": 17,
   "metadata": {},
   "outputs": [
    {
     "data": {
      "text/plain": [
       "(Por favor, pasame la sal, La ensañanza es un proceso con muchos dificultades)"
      ]
     },
     "execution_count": 17,
     "metadata": {},
     "output_type": "execute_result"
    }
   ],
   "source": [
    "doc, doc1"
   ]
  },
  {
   "cell_type": "code",
   "execution_count": 19,
   "metadata": {},
   "outputs": [
    {
     "name": "stdout",
     "output_type": "stream",
     "text": [
      "La La DET DET__Definite=Def|Gender=Fem|Number=Sing|PronType=Art\n",
      "ensañanza ensañanza NOUN NOUN__Gender=Fem|Number=Sing\n",
      "es ser AUX AUX__Mood=Ind|Number=Sing|Person=3|Tense=Pres|VerbForm=Fin\n",
      "un uno DET DET__Definite=Ind|Gender=Masc|Number=Sing|PronType=Art\n",
      "proceso procesar NOUN NOUN__Gender=Masc|Number=Sing\n",
      "con con ADP ADP__AdpType=Prep\n",
      "muchos mucho DET DET__Gender=Masc|Number=Plur|PronType=Ind\n",
      "dificultades dificultad NOUN NOUN__Gender=Fem|Number=Plur\n"
     ]
    }
   ],
   "source": [
    "for token in doc1:\n",
    "    print(token.text, token.lemma_, token.pos_, token.tag_)"
   ]
  },
  {
   "cell_type": "code",
   "execution_count": null,
   "metadata": {},
   "outputs": [],
   "source": []
  }
 ],
 "metadata": {
  "kernelspec": {
   "display_name": "Python 3",
   "language": "python",
   "name": "python3"
  },
  "language_info": {
   "codemirror_mode": {
    "name": "ipython",
    "version": 3
   },
   "file_extension": ".py",
   "mimetype": "text/x-python",
   "name": "python",
   "nbconvert_exporter": "python",
   "pygments_lexer": "ipython3",
   "version": "3.5.2"
  }
 },
 "nbformat": 4,
 "nbformat_minor": 2
}

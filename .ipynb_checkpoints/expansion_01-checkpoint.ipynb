{
 "cells": [
  {
   "cell_type": "code",
   "execution_count": 1,
   "metadata": {},
   "outputs": [],
   "source": [
    "import urllib.request as urllip2\n",
    "from bs4 import BeautifulSoup as bs\n",
    "from selenium import webdriver\n",
    "import time\n",
    "import json"
   ]
  },
  {
   "cell_type": "code",
   "execution_count": 2,
   "metadata": {},
   "outputs": [],
   "source": [
    "url = 'http://cgi.expansion.com/buscador/archivo_expansion.html?q=cr%f3nica%20de%20bolsa&t=1&i=1&n=10&fd=0&td=0&w=65&s=1'"
   ]
  },
  {
   "cell_type": "code",
   "execution_count": 3,
   "metadata": {},
   "outputs": [],
   "source": [
    "driver = webdriver.Firefox()\n",
    "driver.get(url)\n",
    "html = driver.page_source\n",
    "soup = bs(html, 'html5lib')\n",
    "content = soup.findAll('li', class_ = 'detalle_noticia_busqueda')\n",
    "data = {}\n",
    "for item in content:\n",
    "    date = str(item.span.text)\n",
    "    data[date] = {}\n",
    "    data[date]['Title'] = [item.a.text]\n",
    "    data[date]['Link'] = [item.a['href']]\n",
    "\n",
    "x = 148\n",
    "while x > 1:\n",
    "    driver.find_element_by_xpath('//ul[@id=\"paginacion\"]//li/a[@class=\"siguiente\"]').click()\n",
    "    html = driver.page_source\n",
    "    soup = bs(html, 'html.parser')\n",
    "    content = soup.findAll('li', class_ = 'detalle_noticia_busqueda')\n",
    "    for item in content:\n",
    "        date = str(item.span.text)\n",
    "        if date not in data:\n",
    "            data[date] = {}\n",
    "            data[date]['Title'] = [item.a.text]\n",
    "            data[date]['Link'] = [item.a['href']]\n",
    "        else:\n",
    "            data[date]['Title'].append(item.a.text)\n",
    "            data[date]['Link'].append(item.a['href'])\n",
    "    x -= 1\n",
    "    time.sleep(1)"
   ]
  },
  {
   "cell_type": "code",
   "execution_count": 4,
   "metadata": {},
   "outputs": [
    {
     "data": {
      "text/plain": [
       "1457"
      ]
     },
     "execution_count": 4,
     "metadata": {},
     "output_type": "execute_result"
    }
   ],
   "source": [
    "len(data.keys())"
   ]
  },
  {
   "cell_type": "code",
   "execution_count": 7,
   "metadata": {},
   "outputs": [],
   "source": [
    "with open('data.json', 'w') as fp:\n",
    "    json.dump(data, fp)"
   ]
  },
  {
   "cell_type": "code",
   "execution_count": null,
   "metadata": {},
   "outputs": [],
   "source": []
  }
 ],
 "metadata": {
  "kernelspec": {
   "display_name": "Python 3",
   "language": "python",
   "name": "python3"
  },
  "language_info": {
   "codemirror_mode": {
    "name": "ipython",
    "version": 3
   },
   "file_extension": ".py",
   "mimetype": "text/x-python",
   "name": "python",
   "nbconvert_exporter": "python",
   "pygments_lexer": "ipython3",
   "version": "3.5.2"
  }
 },
 "nbformat": 4,
 "nbformat_minor": 2
}
